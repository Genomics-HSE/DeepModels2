{
 "cells": [
  {
   "cell_type": "code",
   "execution_count": 9,
   "metadata": {},
   "outputs": [],
   "source": [
    "import time\n",
    "\n",
    "import torch\n",
    "import pytorch_lightning as pl\n",
    "from matplotlib import pyplot as plt \n",
    "import numpy as np\n",
    "\n",
    "from genomics_models import gru, conv_gru"
   ]
  },
  {
   "cell_type": "code",
   "execution_count": 5,
   "metadata": {},
   "outputs": [],
   "source": [
    "%matplotlib inline"
   ]
  },
  {
   "cell_type": "markdown",
   "metadata": {},
   "source": [
    "You need to specify a path to trained weights:"
   ]
  },
  {
   "cell_type": "code",
   "execution_count": 27,
   "metadata": {},
   "outputs": [],
   "source": [
    "path = \"weights/CONV4-GRU-sl10000-ker21-hs256-nl2.pt\""
   ]
  },
  {
   "cell_type": "code",
   "execution_count": 28,
   "metadata": {},
   "outputs": [],
   "source": [
    "model = conv_gru.EncoderConvGRU.load_from_checkpoint(path)"
   ]
  },
  {
   "cell_type": "markdown",
   "metadata": {},
   "source": [
    "Load data from disk:\n",
    "\n",
    "```\n",
    "X_path = \"...\"\n",
    "y_path = \"...\"\n",
    "```"
   ]
  },
  {
   "cell_type": "code",
   "execution_count": 11,
   "metadata": {},
   "outputs": [],
   "source": [
    "X_path = \"data/b_data/x/0.pt\"\n",
    "y_path = \"data/b_data/y/0.pt\"\n",
    "\n",
    "X = torch.load(X_path)\n",
    "y = torch.load(y_path)"
   ]
  },
  {
   "cell_type": "code",
   "execution_count": 24,
   "metadata": {},
   "outputs": [
    {
     "data": {
      "text/plain": [
       "30000000"
      ]
     },
     "execution_count": 24,
     "metadata": {},
     "output_type": "execute_result"
    }
   ],
   "source": [
    "len(X)"
   ]
  },
  {
   "cell_type": "markdown",
   "metadata": {},
   "source": [
    "For example, you want to apply weights to some segment of the data `X0` and `y0`. You can do as following:\n"
   ]
  },
  {
   "cell_type": "code",
   "execution_count": 29,
   "metadata": {},
   "outputs": [],
   "source": [
    "seq_len = 1000\n",
    "\n",
    "X0 = X[:seq_len].unsqueeze(0)\n",
    "y0 = y[:seq_len]\n",
    "\n",
    "with torch.no_grad():\n",
    "    y_hat = model(X0)"
   ]
  },
  {
   "cell_type": "markdown",
   "metadata": {},
   "source": [
    "`y_hat` has dimension `(1, seq_len - kernel_size + 1, n_class)`. \n",
    "In the following case `seq_len` = 1000,  `kernel_size` = 51 and `n_class` = 20"
   ]
  },
  {
   "cell_type": "markdown",
   "metadata": {},
   "source": [
    "For plotting a heatmap, do following:"
   ]
  },
  {
   "cell_type": "code",
   "execution_count": 31,
   "metadata": {},
   "outputs": [],
   "source": [
    "y_plot = y_hat.squeeze(0).detach().numpy().T"
   ]
  },
  {
   "cell_type": "code",
   "execution_count": 32,
   "metadata": {},
   "outputs": [
    {
     "data": {
      "text/plain": [
       "[<matplotlib.lines.Line2D at 0x7f9dbc6f2390>]"
      ]
     },
     "execution_count": 32,
     "metadata": {},
     "output_type": "execute_result"
    },
    {
     "data": {
      "image/png": "[encoded data removed]",
      "text/plain": [
       "<Figure size 432x288 with 1 Axes>"
      ]
     },
     "metadata": {
      "needs_background": "light"
     },
     "output_type": "display_data"
    }
   ],
   "source": [
    "plt.imshow(np.exp(y_plot), cmap='Wistia', aspect='auto')\n",
    "plt.plot(y0, lw=1, c='black')"
   ]
  },
  {
   "cell_type": "markdown",
   "metadata": {},
   "source": [
    "For full genome you can do:"
   ]
  },
  {
   "cell_type": "code",
   "execution_count": null,
   "metadata": {},
   "outputs": [],
   "source": [
    "seq_len = 300000\n",
    "\n",
    "with torch.no_grad():\n",
    "    for i in range(0, len(X), seq_len):\n",
    "        \n",
    "        X0 = X[i:i+seq_len].unsqueeze(0)\n",
    "        y_hat = model(X0)\n",
    "        \n",
    "        # do whatever with y_hat\n",
    "    "
   ]
  }
 ],
 "metadata": {
  "kernelspec": {
   "display_name": "Python 3",
   "language": "python",
   "name": "python3"
  },
  "language_info": {
   "codemirror_mode": {
    "name": "ipython",
    "version": 3
   },
   "file_extension": ".py",
   "mimetype": "text/x-python",
   "name": "python",
   "nbconvert_exporter": "python",
   "pygments_lexer": "ipython3",
   "version": "3.7.6"
  }
 },
 "nbformat": 4,
 "nbformat_minor": 4
}
